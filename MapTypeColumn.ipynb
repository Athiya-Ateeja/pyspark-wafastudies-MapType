{
 "cells": [
  {
   "cell_type": "code",
   "execution_count": 0,
   "metadata": {
    "application/vnd.databricks.v1+cell": {
     "cellMetadata": {
      "byteLimit": 2048000,
      "rowLimit": 10000
     },
     "inputWidgets": {},
     "nuid": "4b7c9cf2-a428-435c-baa5-7e482f23210b",
     "showTitle": false,
     "title": ""
    }
   },
   "outputs": [
    {
     "output_type": "stream",
     "name": "stdout",
     "output_type": "stream",
     "text": [
      "+------+--------------------+\n|  Name|          Properties|\n+------+--------------------+\n|Athiya|{eye -> brown, ha...|\n|  Sana|{eye -> blue, hai...|\n+------+--------------------+\n\nroot\n |-- Name: string (nullable = true)\n |-- Properties: map (nullable = true)\n |    |-- key: string\n |    |-- value: string (valueContainsNull = true)\n\n"
     ]
    }
   ],
   "source": [
    "data = [('Athiya',{'hair':'black','eye':'brown'}),('Sana',{'hair':'black','eye':'blue'})]\n",
    "schema = ['Name','Properties']\n",
    "df = spark.createDataFrame(data,schema)\n",
    "df.show()\n",
    "df.printSchema()"
   ]
  },
  {
   "cell_type": "code",
   "execution_count": 0,
   "metadata": {
    "application/vnd.databricks.v1+cell": {
     "cellMetadata": {
      "byteLimit": 2048000,
      "rowLimit": 10000
     },
     "inputWidgets": {},
     "nuid": "d6d82bd2-13fb-4963-b9f0-c3b2c87f0912",
     "showTitle": false,
     "title": ""
    }
   },
   "outputs": [],
   "source": [
    "from pyspark.sql.types import StructType,StructField,MapType,StringType"
   ]
  },
  {
   "cell_type": "code",
   "execution_count": 0,
   "metadata": {
    "application/vnd.databricks.v1+cell": {
     "cellMetadata": {
      "byteLimit": 2048000,
      "rowLimit": 10000
     },
     "inputWidgets": {},
     "nuid": "351cbda3-1bf6-4ade-affa-c3dd8c65d19e",
     "showTitle": false,
     "title": ""
    }
   },
   "outputs": [],
   "source": [
    "schema = StructType([StructField('Name',StringType()),\\\n",
    "                    StructField('Properties',MapType(StringType(),StringType()))])\n",
    "df = spark.createDataFrame(data,schema)"
   ]
  },
  {
   "cell_type": "code",
   "execution_count": 0,
   "metadata": {
    "application/vnd.databricks.v1+cell": {
     "cellMetadata": {
      "byteLimit": 2048000,
      "rowLimit": 10000
     },
     "inputWidgets": {},
     "nuid": "fd15ef50-1fc8-48a0-bfb9-25e989c843ba",
     "showTitle": false,
     "title": ""
    }
   },
   "outputs": [
    {
     "output_type": "stream",
     "name": "stdout",
     "output_type": "stream",
     "text": [
      "+------+--------------------+\n|  Name|          Properties|\n+------+--------------------+\n|Athiya|{eye -> brown, ha...|\n|  Sana|{eye -> blue, hai...|\n+------+--------------------+\n\n"
     ]
    }
   ],
   "source": [
    "df.show()"
   ]
  },
  {
   "cell_type": "code",
   "execution_count": 0,
   "metadata": {
    "application/vnd.databricks.v1+cell": {
     "cellMetadata": {
      "byteLimit": 2048000,
      "rowLimit": 10000
     },
     "inputWidgets": {},
     "nuid": "c1928ce9-71eb-444d-b959-b39cbc9e3385",
     "showTitle": false,
     "title": ""
    }
   },
   "outputs": [
    {
     "output_type": "stream",
     "name": "stdout",
     "output_type": "stream",
     "text": [
      "root\n |-- Name: string (nullable = true)\n |-- Properties: map (nullable = true)\n |    |-- key: string\n |    |-- value: string (valueContainsNull = true)\n\n"
     ]
    }
   ],
   "source": [
    "df.printSchema()"
   ]
  },
  {
   "cell_type": "code",
   "execution_count": 0,
   "metadata": {
    "application/vnd.databricks.v1+cell": {
     "cellMetadata": {
      "byteLimit": 2048000,
      "rowLimit": 10000
     },
     "inputWidgets": {},
     "nuid": "c3a21b4c-0e6c-4209-ad4a-61454378159d",
     "showTitle": false,
     "title": ""
    }
   },
   "outputs": [
    {
     "output_type": "stream",
     "name": "stdout",
     "output_type": "stream",
     "text": [
      "+------+--------------------+-----+\n|  Name|          Properties| hair|\n+------+--------------------+-----+\n|Athiya|{eye -> brown, ha...|black|\n|  Sana|{eye -> blue, hai...|black|\n+------+--------------------+-----+\n\n"
     ]
    }
   ],
   "source": [
    "df1 = df.withColumn('hair',df.Properties['hair'])\n",
    "df1.show()"
   ]
  },
  {
   "cell_type": "code",
   "execution_count": 0,
   "metadata": {
    "application/vnd.databricks.v1+cell": {
     "cellMetadata": {
      "byteLimit": 2048000,
      "rowLimit": 10000
     },
     "inputWidgets": {},
     "nuid": "f08e3648-8554-4d17-a0aa-f0780e8672c7",
     "showTitle": false,
     "title": ""
    }
   },
   "outputs": [
    {
     "output_type": "stream",
     "name": "stdout",
     "output_type": "stream",
     "text": [
      "+------+--------------------+-----+-----+\n|  Name|          Properties| hair|  eye|\n+------+--------------------+-----+-----+\n|Athiya|{eye -> brown, ha...|black|brown|\n|  Sana|{eye -> blue, hai...|black| blue|\n+------+--------------------+-----+-----+\n\n"
     ]
    }
   ],
   "source": [
    "df2 = df1.withColumn('eye',df.Properties.getItem('eye'))\n",
    "df2.show()"
   ]
  },
  {
   "cell_type": "code",
   "execution_count": 0,
   "metadata": {
    "application/vnd.databricks.v1+cell": {
     "cellMetadata": {},
     "inputWidgets": {},
     "nuid": "6f166fbc-df8d-455a-963d-f25766687126",
     "showTitle": false,
     "title": ""
    }
   },
   "outputs": [],
   "source": []
  }
 ],
 "metadata": {
  "application/vnd.databricks.v1+notebook": {
   "dashboards": [],
   "language": "python",
   "notebookMetadata": {
    "pythonIndentUnit": 4
   },
   "notebookName": "MapTypeColumn",
   "widgets": {}
  }
 },
 "nbformat": 4,
 "nbformat_minor": 0
}
